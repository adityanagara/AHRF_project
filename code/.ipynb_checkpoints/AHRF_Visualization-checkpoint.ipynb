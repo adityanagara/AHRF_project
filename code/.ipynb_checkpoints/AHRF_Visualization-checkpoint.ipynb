{
 "cells": [
  {
   "cell_type": "markdown",
   "metadata": {
    "collapsed": true
   },
   "source": [
    "# Parsing and visualizing the AHRF (Area Health Resource File)\n",
    "\n",
    "\n",
    "This I-Python Notebook explores the AHRF (Area Health Resource File) data set available for download from the [HRSA (Health Resources and Service Administration)](http://ahrf.hrsa.gov/) website. Along with this notebook we include the file AHRF_parser.py which is the API to parse through the 2015-2016 ASCII AHRF. You can download the date from the link provided previously or use the following command to download and unzip the data to the same folder in which this I-Python notebook resides and follow along with this notebook."
   ]
  },
  {
   "cell_type": "code",
   "execution_count": null,
   "metadata": {
    "collapsed": false
   },
   "outputs": [
    {
     "name": "stdout",
     "output_type": "stream",
     "text": [
      "--2017-01-07 10:36:22--  https://datawarehouse.hrsa.gov/DataDownload/AHRF/AHRF_2015-2016.zip\n",
      "Resolving datawarehouse.hrsa.gov (datawarehouse.hrsa.gov)... 162.99.248.241, 2607:f220:41c:400::f10\n",
      "Connecting to datawarehouse.hrsa.gov (datawarehouse.hrsa.gov)|162.99.248.241|:443... connected.\n",
      "HTTP request sent, awaiting response... 200 OK\n",
      "Length: 24370231 (23M) [application/x-zip-compressed]\n",
      "Saving to: ‘AHRF_2015-2016.zip.1’\n",
      "\n",
      "AHRF_2015-2016.zip. 100%[=====================>]  23.24M  1.13MB/s   in 16s    \n",
      "\n",
      "2017-01-07 10:36:39 (1.45 MB/s) - ‘AHRF_2015-2016.zip.1’ saved [24370231/24370231]\n",
      "\n",
      "Archive:  AHRF_2015-2016.zip\n",
      "replace DOC/2015-2016_AHRFDUA.doc? [y]es, [n]o, [A]ll, [N]one, [r]ename: "
     ]
    }
   ],
   "source": [
    "!wget https://datawarehouse.hrsa.gov/DataDownload/AHRF/AHRF_2015-2016.zip\n",
    "!unzip AHRF_2015-2016.zip -o"
   ]
  },
  {
   "cell_type": "markdown",
   "metadata": {},
   "source": [
    "## Introduction \n",
    "The county level AHRF contains 3230 records and 6920 variables. These variables include data on health care providers, health care facilities, health care facilities utilization, expenditures and demographic information at the county level. To optimize for speed, the API uses the multiprocessing module to parse the ASCII file. The API allows the user to select a set of variables to extract from the ASCII file and load it as a Pandas data frame. The description of the variables is given in the technical documentation which comes along with the zip file on downloading the data. The .sas file is used to obtain the variable names and locations of the variables on the ASCII file. A meta_data.csv is created as a look up table for variable name and location on the ASCII file once you call the object parse_AHRF_ascii(). We analyze a small subset of these variables at the country, state and county levels and discuss some correlations between these variables. "
   ]
  },
  {
   "cell_type": "code",
   "execution_count": null,
   "metadata": {
    "collapsed": false
   },
   "outputs": [],
   "source": [
    "import pandas as pd\n",
    "import numpy as np\n",
    "import re\n",
    "from matplotlib import pyplot as plt\n",
    "import seaborn as sns \n",
    "%matplotlib inline\n",
    "import AHRF_parser;reload(AHRF_parser)\n",
    "pd.set_option('display.float_format', lambda x: '%.2f' % x)"
   ]
  },
  {
   "cell_type": "markdown",
   "metadata": {},
   "source": [
    "## Country Level Analysis\n",
    "Let us begin by loading all of our variables as a Pandas data frame and look at the country averages of these variables over time. "
   ]
  },
  {
   "cell_type": "code",
   "execution_count": null,
   "metadata": {
    "collapsed": false
   },
   "outputs": [],
   "source": [
    "# Takes as input number of cores to use\n",
    "ahrf_parser = AHRF_parser.parse_AHRF_ascii(num_cores = 8,\n",
    "                                           ascii_file_path = \"DATA/ahrf2016.asc\",\n",
    "                                           sas_file_path=\"DOC/ahrf2015-16.sas\")\n",
    "# Determine a set of medical care providers variables to analyze\n",
    "medical_providers_columns = [\"Header-FIPSStandCtyCode\",\"FIPSStateCode\",\n",
    "                              \"FIPSCountyCode\",\n",
    "                              \"StateNameAbbreviation\",\n",
    "                               \"CountyName\"]\n",
    "\n",
    "medical_providers_columns.extend([\"CensusPopulation2010\"])\n",
    "medical_providers_columns.extend([\"PopulationEstimate201{}\".format(x) for x in range(1,5)])\n",
    "medical_providers_columns.extend([\"Phys,PrimaryCare,PatientCareNon-Fed201{}\".format(x) for x in range(5)])\n",
    "medical_providers_columns.extend([\"TotalActiveM.D.sNon-FederalNon-Fed201{}\".format(x) for x in range(5)])\n",
    "medical_providers_columns.extend([\"TotalActiveD.O.sNon-FederalNon-Fed201{}\".format(x) for x in range(5)])\n",
    "\n",
    "all_columns = medical_providers_columns"
   ]
  },
  {
   "cell_type": "code",
   "execution_count": null,
   "metadata": {
    "collapsed": false
   },
   "outputs": [],
   "source": [
    "# Determine a set of medical expenditures variables to analyze\n",
    "expenditures_columns = []\n",
    "expenditures_columns.extend([\"TotalActualMedicareCostsFeeforService201{}\".format(x) for x in range(5)])\n",
    "expenditures_columns.extend([\"TotStandardizedMedicareCostsFeeforService201{}\".format(x) for x in range(5)])\n",
    "expenditures_columns.extend([\"ActualPerCapitaMedicareCostFeeforService201{}\".format(x) for x in range(5)])\n",
    "expenditures_columns.extend([\"StandardzdPerCapitaMedcrCostFeeforService201{}\".format(x) for x in range(5)])\n",
    "expenditures_columns.extend([\"MedcreBenefHospReadmissRateFeeforService201{}\".format(x) for x in range(5)])\n",
    "all_columns.extend(expenditures_columns)"
   ]
  },
  {
   "cell_type": "code",
   "execution_count": null,
   "metadata": {
    "collapsed": false
   },
   "outputs": [],
   "source": [
    "# Determine a set of medical facilities utilization variables to analyze\n",
    "utilization_columns = []\n",
    "utilization_columns.extend([\"HospitalBeds2013\",\n",
    "                            \"ShortTermGeneralHospBeds2013\",\n",
    "                            \"InpatientDaysinSTGenHosp2013\",\n",
    "                            \"TotalNumberHospitals2013\",\n",
    "                            \"#ShortTermGeneralHosps2013\",\n",
    "                            \"HospitalAdmissions2013\",\n",
    "                            \"ShortTermGenHospAdmissions2013\",\n",
    "                            \"TotalMedicareInpatientDaysShortTermGeneralHospitals2013\",\n",
    "                            \"DistHospBy00-39%UtilRateShortTermGeneralHospitals2013\",\n",
    "                            \"DistHospBy40-59%UtilRateShortTermGeneralHospitals2013\",\n",
    "                            \"DistHospBy60-79%UtilRateShortTermGeneralHospitals2013\",\n",
    "                            \"DistHospBy80+%UtilRateShortTermGeneralHospitals2013\"])\n",
    "all_columns.extend(utilization_columns)"
   ]
  },
  {
   "cell_type": "code",
   "execution_count": null,
   "metadata": {
    "collapsed": false
   },
   "outputs": [],
   "source": [
    "# Determine a set of demographics variables to analyze\n",
    "demographics_columns = []\n",
    "demographics_columns.extend([\"%<65withoutHealthInsurance201{}\".format(x) for x in range(5)])\n",
    "demographics_columns.extend([\"UnemploymentRate,16+201{}\".format(x) for x in range(5)])\n",
    "demographics_columns.extend([\"PerCapitaPersonalIncome201{}\".format(x) for x in range(5)])\n",
    "demographics_columns.extend([\"MedianHouseholdIncome201{}\".format(x) for x in range(5)])\n",
    "demographics_columns.extend([\"PercentPersonsinPoverty201{}\".format(x) for x in range(5)])\n",
    "demographics_columns.extend([\"Pers<65withoutHealthIns201{}\".format(x) for x in range(5)])\n",
    "all_columns.extend(demographics_columns)\n",
    "\n",
    "ahrf_frame = ahrf_parser.parse_ahrf_file_multicore(ahrf_columns = all_columns)\n",
    "ahrf_frame.shape"
   ]
  },
  {
   "cell_type": "markdown",
   "metadata": {},
   "source": [
    "Let us define some helper functions that converts these the fields in the data frame to numerical fields. We also define a helper function to normalize a given variable by population. I chose the normalization by population as it gives a good estimate of density of resources as available to N people, the default value is N = 100000, but can be set as a parameter to the function."
   ]
  },
  {
   "cell_type": "code",
   "execution_count": null,
   "metadata": {
    "collapsed": true
   },
   "outputs": [],
   "source": [
    "def convert_to_numeric(data_frame):\n",
    "    '''This function takes in a DataFrame and converst the given \n",
    "    columns to numeric value with NaN for any string that is not \n",
    "    a number.\n",
    "    input: data frame\n",
    "    \n",
    "    output: data frame with all numerical fields conveterd to numerical data types\n",
    "    '''\n",
    "    for col in list(data_frame.keys()):\n",
    "        if col not in [\"StateNameAbbreviation\",\"FIPSStateCode\",\"FIPSCountyCode\",\"Header-FIPSStandCtyCode\",\"CountyName\"]:\n",
    "            data_frame[col] = pd.to_numeric(data_frame[col],errors = \"coerce\")\n",
    "    return data_frame\n",
    "\n",
    "def normalize_by_population(data_frame,columns,population = 100000):\n",
    "    '''Function which takes in a data frame and normalizes the variables for 100K people\n",
    "    similar to http://ahrf.hrsa.gov/arfdashboard/ArfGeo.aspx\n",
    "    \n",
    "    Note: The data frame should contain the column for the population estimete for the corrosponding year\n",
    "    input: data frame\n",
    "    input: list of columns to normalize\n",
    "    input: normalize by number of people\n",
    "    \n",
    "    output: input data frame with additional normalized columns\n",
    "    '''\n",
    "    for col in columns:\n",
    "        year = re.findall('\\d+',col)[0]\n",
    "        data_frame[col + \"PopNorm\"] = (data_frame[col] / data_frame[\"PopulationEstimate\" + year]) * population\n",
    "    return data_frame"
   ]
  },
  {
   "cell_type": "code",
   "execution_count": null,
   "metadata": {
    "collapsed": false
   },
   "outputs": [],
   "source": [
    "ahrf_frame = convert_to_numeric(ahrf_frame)"
   ]
  },
  {
   "cell_type": "code",
   "execution_count": null,
   "metadata": {
    "collapsed": false
   },
   "outputs": [],
   "source": [
    "ahrf_frame = ahrf_frame.rename(columns = {\"CensusPopulation2010\" : \"PopulationEstimate2010\"})\n",
    "# Remove Guam, Puerto Rico and US Virgin Islands\n",
    "ahrf_frame = ahrf_frame[~ahrf_frame.FIPSStateCode.isin([\"66\",\"72\",\"78\"])]"
   ]
  },
  {
   "cell_type": "code",
   "execution_count": null,
   "metadata": {
    "collapsed": false
   },
   "outputs": [],
   "source": [
    "ahrf_frame.describe()"
   ]
  },
  {
   "cell_type": "markdown",
   "metadata": {},
   "source": [
    "Let us take a look at the changes in medical care providers over time from 2010 to 2014."
   ]
  },
  {
   "cell_type": "code",
   "execution_count": null,
   "metadata": {
    "collapsed": false
   },
   "outputs": [],
   "source": [
    "# Define a list of years we want to plot\n",
    "years = [\"201{}\".format(x) for x in range(5)]\n",
    "# define a data frame with that holds the year wise variables\n",
    "medical_provider_summary_frame = pd.DataFrame(columns = [\"year\",\n",
    "                                                         \"PopulationEstimate\",\n",
    "                                                         \"Phys,PrimaryCare,PatientCareNon-Fed\",\n",
    "                                                         \"TotalActiveM.D.sNon-FederalNon-Fed\",\n",
    "                                                         \"TotalActiveD.O.sNon-FederalNon-Fed\"])\n",
    "# Compute the total number of each variable\n",
    "for i,yr in enumerate(years):\n",
    "    medical_provider_summary_frame.loc[i,:] = [yr,\n",
    "                                               ahrf_frame[\"PopulationEstimate\" + yr].sum(),\n",
    "                                               ahrf_frame[\"Phys,PrimaryCare,PatientCareNon-Fed\" + yr].sum(),\n",
    "                                               ahrf_frame[\"TotalActiveM.D.sNon-FederalNon-Fed\" + yr].sum(),\n",
    "                                               ahrf_frame[\"TotalActiveD.O.sNon-FederalNon-Fed\" + yr].sum()]\n",
    "\n",
    "# Normalize for 100k people\n",
    "medical_provider_summary_frame_normalized = medical_provider_summary_frame[medical_provider_summary_frame.columns[2:]].apply(\n",
    "                                                            lambda x : (x / medical_provider_summary_frame[\"PopulationEstimate\"]) * 100000)\n",
    "\n",
    "medical_provider_summary_frame_normalized[\"year\"] = years\n",
    "plot = medical_provider_summary_frame_normalized.plot.bar(x = \"year\",ylim = (0.0,400.0))\n",
    "plot.set_ylabel(\"Number of medical providers / 100k people\")"
   ]
  },
  {
   "cell_type": "markdown",
   "metadata": {},
   "source": [
    "From the above bar plot we can see the number of medical providers (primary care physicians, MDs and DOs) per 100k people have not changed very much. The values are also printed in the following table. "
   ]
  },
  {
   "cell_type": "code",
   "execution_count": null,
   "metadata": {
    "collapsed": false
   },
   "outputs": [],
   "source": [
    "medical_provider_summary_frame_normalized"
   ]
  },
  {
   "cell_type": "code",
   "execution_count": null,
   "metadata": {
    "collapsed": true
   },
   "outputs": [],
   "source": [
    "def get_5year_means(data_frame,columns):\n",
    "    \"\"\"\n",
    "    Function that computes a variable over time from 2010 - 2014\n",
    "    \n",
    "    input: data frame containing all columns (data fields must be from 2010-2014)\n",
    "    input: list of columns to generate the time series\n",
    "    \n",
    "    output: a data frame with year and means of each variable (year as rows and variable as columns)\n",
    "    \"\"\"\n",
    "    summary = pd.DataFrame(columns = columns)\n",
    "    years = [\"201{}\".format(x) for x in range(5)]\n",
    "    for i,yr in enumerate(years):\n",
    "        temp = [yr]\n",
    "        temp.extend(map(lambda x: data_frame[x + yr].mean(),columns[1:]))\n",
    "        summary.loc[i,columns] = temp\n",
    "    return summary"
   ]
  },
  {
   "cell_type": "code",
   "execution_count": null,
   "metadata": {
    "collapsed": false
   },
   "outputs": [],
   "source": [
    "expenditures_summary = get_5year_means(ahrf_frame,[\"year\",\n",
    "                                                   \"StandardzdPerCapitaMedcrCostFeeforService\",\n",
    "                                                   \"MedcreBenefHospReadmissRateFeeforService\"])\n",
    "plot = expenditures_summary.plot(x = \"year\",y=[\"StandardzdPerCapitaMedcrCostFeeforService\",\n",
    "                                        \"MedcreBenefHospReadmissRateFeeforService\"],\n",
    "                          secondary_y=[\"MedcreBenefHospReadmissRateFeeforService\"])\n",
    "\n",
    "plot.set_ylabel(\"cost\")\n",
    "plot.yaxis.set_label_position(\"right\")\n",
    "plot.set_ylabel(\"%\")"
   ]
  },
  {
   "cell_type": "markdown",
   "metadata": {},
   "source": [
    "From the above plot we see that the national average Medicare cost has seen a sharp increase from the year 2013 to 2014. We also notice that readmissions rate which is defined as \"Medicare Beneficiary FFS Acute Hospital Readmission is the total count of inpatient readmissions within 30 days\" decreases from 2010 to 2013 but increases from the year 2013 to 2014. This may suggest that some of the Medicare costs may be due to this increase in readmissions rate. We next look at the change in demographic data over time from 2010 to 2014."
   ]
  },
  {
   "cell_type": "code",
   "execution_count": null,
   "metadata": {
    "collapsed": false
   },
   "outputs": [],
   "source": [
    "demographics_summary = get_5year_means(ahrf_frame,[\"year\",\n",
    "                                                   \"UnemploymentRate,16+\",\n",
    "                                                   \"%<65withoutHealthInsurance\",\n",
    "                                                   \"PercentPersonsinPoverty\",\n",
    "                                                   \"MedianHouseholdIncome\",\n",
    "                                                   \"PerCapitaPersonalIncome\"])"
   ]
  },
  {
   "cell_type": "code",
   "execution_count": null,
   "metadata": {
    "collapsed": false
   },
   "outputs": [],
   "source": [
    "plot = demographics_summary.plot.bar(x = \"year\",y = [\"MedianHouseholdIncome\",\"PerCapitaPersonalIncome\"],ylim = (0,55000))\n",
    "plot.set_ylabel(\"income ($)\")"
   ]
  },
  {
   "cell_type": "markdown",
   "metadata": {},
   "source": [
    "We can see from the above plot that there is a gradual increase in average per-capita and median household income. "
   ]
  },
  {
   "cell_type": "code",
   "execution_count": null,
   "metadata": {
    "collapsed": false
   },
   "outputs": [],
   "source": [
    "plot = demographics_summary.plot(x=\"year\",y=[\"UnemploymentRate,16+\",\"%<65withoutHealthInsurance\"],ylim = (0.0,25.0))\n",
    "plot.set_ylabel(\"rate %\")"
   ]
  },
  {
   "cell_type": "markdown",
   "metadata": {},
   "source": [
    "The above plot shows the average unemployment rate and percentage of people without health insurance decrease over the years of 2010-2014. There is a large decrease in percentage of people without health insurance from the year 2013 to 2014. Unemployment rate is defined for people over 16 years of age and percentage of people without health insurance is defined for people less than 65 years of age. From here on out when we refer to unemployment rate and percentage of people without health insurance this is what we mean.\n",
    "\n",
    "The significant drop in percentage of people without health insurance seems to be the result of result of Obama care cited in [this](http://obamacarefacts.com/whatis-obamacare/) article. "
   ]
  },
  {
   "cell_type": "code",
   "execution_count": null,
   "metadata": {
    "collapsed": false
   },
   "outputs": [],
   "source": [
    "demographics_summary"
   ]
  },
  {
   "cell_type": "markdown",
   "metadata": {},
   "source": [
    "The above table which shows the national average for each variable and each year suggests that although unemployment has decreased poverty rates have largely remained the same.\n",
    "## State Level Analysis\n",
    "### Medical Providers\n",
    "Let us start by aggregating the population, total active MDs, primary care physicians and total active DOs for each state in the year 2014 and normalize the primary care physicians for 100k people."
   ]
  },
  {
   "cell_type": "code",
   "execution_count": null,
   "metadata": {
    "collapsed": false
   },
   "outputs": [],
   "source": [
    "state_wise_medical_provider = ahrf_frame.groupby([\"StateNameAbbreviation\"],as_index=False)[\"PopulationEstimate2014\",\n",
    "                                                                             \"TotalActiveM.D.sNon-FederalNon-Fed2014\",\n",
    "                                                                            \"TotalActiveD.O.sNon-FederalNon-Fed2014\",\n",
    "                                                                            \"Phys,PrimaryCare,PatientCareNon-Fed2014\"].sum()\n",
    "\n",
    "state_wise_medical_provider = normalize_by_population(state_wise_medical_provider,[\"Phys,PrimaryCare,PatientCareNon-Fed2014\"])"
   ]
  },
  {
   "cell_type": "markdown",
   "metadata": {},
   "source": [
    "The data is sorted by primary care physician densities with the following two tables showing the states with the highest and lowest primary care physician densities. "
   ]
  },
  {
   "cell_type": "code",
   "execution_count": null,
   "metadata": {
    "collapsed": false
   },
   "outputs": [],
   "source": [
    "state_wise_medical_provider.sort_values(by = \"Phys,PrimaryCare,PatientCareNon-Fed2014PopNorm\",ascending = 0)[:5][[\"StateNameAbbreviation\",\n",
    "                                                                                                 \"Phys,PrimaryCare,PatientCareNon-Fed2014PopNorm\"]]"
   ]
  },
  {
   "cell_type": "code",
   "execution_count": null,
   "metadata": {
    "collapsed": false
   },
   "outputs": [],
   "source": [
    "state_wise_medical_provider.sort_values(by = \"Phys,PrimaryCare,PatientCareNon-Fed2014PopNorm\",ascending = 0)[-5:][[\"StateNameAbbreviation\",\n",
    "                                                                                                 \"Phys,PrimaryCare,PatientCareNon-Fed2014PopNorm\"]]"
   ]
  },
  {
   "cell_type": "markdown",
   "metadata": {},
   "source": [
    "From the first table above the state with the highest primary care physician density is Washington D.C with 113 physicians for every 100k people and the lowest density is Missouri with 53 physicians for 100k people. To plot the distribution of the primary care physician density across USA we write the following helper function. This function can be used to plot any variable along with displaying other variables as we hover over each state. We make use of the [Bokeh](http://bokeh.pydata.org/en/latest/) API in Python."
   ]
  },
  {
   "cell_type": "code",
   "execution_count": null,
   "metadata": {
    "collapsed": false
   },
   "outputs": [],
   "source": [
    "from bokeh.sampledata import us_states, us_counties\n",
    "from bokeh.plotting import figure, show, output_notebook\n",
    "from bokeh import palettes\n",
    "from bokeh.models import ColorBar,HoverTool,LinearColorMapper,ColumnDataSource,FixedTicker\n",
    "output_notebook()\n",
    "\n",
    "def plot_us_map(state_wise,variable_to_distribute,variables_to_display):\n",
    "    \"\"\"plots the distribution of a given variable across the CONUS\n",
    "    input: state_wise is the input data frame containing all of the data grouped by each state\n",
    "    input: variable_to_distribute is the variable that needs to be plotted across CONUS\n",
    "    input: variables_to_display is the list of variables to display while hovering over each state\n",
    "    \n",
    "    output: Bokeh plotting object which cab be user to plot by using show(p)\n",
    "    \"\"\"\n",
    "    us_states_ = us_states.data.copy()\n",
    "    if variable_to_distribute in variables_to_display:\n",
    "        variables_to_display.remove(variable_to_distribute)\n",
    "\n",
    "    del us_states_[\"HI\"]\n",
    "    del us_states_[\"AK\"]\n",
    "    colors = palettes.viridis(5)\n",
    "\n",
    "    state_xs = [us_states_[code][\"lons\"] for code in us_states_]\n",
    "    state_ys = [us_states_[code][\"lats\"] for code in us_states_]\n",
    "\n",
    "    min_value = round(state_wise[variable_to_distribute].min(),2)\n",
    "    max_value = round(state_wise[variable_to_distribute].max(),2)\n",
    "    \n",
    "    gran = (max_value - min_value) / float(len(colors))\n",
    "    index_range = [min_value + x*gran for x in range(len(colors))]\n",
    "    \n",
    "    state_colors = []\n",
    "    states = []\n",
    "    variable_dictionary = {}\n",
    "    variable_dictionary[\"x\"] = state_xs\n",
    "    variable_dictionary[\"y\"] = state_ys\n",
    "    variable_dictionary[re.sub(\"[^\\w]\",\"\",variable_to_distribute)] = []\n",
    "    \n",
    "    for vd in variables_to_display:\n",
    "        variable_dictionary[re.sub(\"[^\\w]\",\"\",vd)] = []\n",
    "    for code in us_states_:\n",
    "        states.append(code)\n",
    "        temp_var = round(float(state_wise[state_wise[\"StateNameAbbreviation\"] == code][variable_to_distribute].values),2)\n",
    "        color_idx = list(temp_var - np.array(index_range)).index(min(x for x in list(temp_var - np.array(index_range)) if x >= 0))\n",
    "        state_colors.append(colors[color_idx])\n",
    "        #state_colors.append(colors[np.argmin(np.abs(np.array(index_range) - temp_var))])\n",
    "        variable_dictionary[re.sub(\"[^\\w]\",\"\",variable_to_distribute)].append(temp_var)\n",
    "        for vd in variables_to_display:\n",
    "            variable_dictionary[re.sub(\"[^\\w]\",\"\",vd)].append(round(float(state_wise[state_wise[\"StateNameAbbreviation\"] == code][vd].values),2))\n",
    "            \n",
    "    variable_dictionary[\"state_name\"] = states\n",
    "    variable_dictionary[\"color\"] = state_colors\n",
    "    source = ColumnDataSource(data = variable_dictionary)\n",
    "    mapper = LinearColorMapper(palette=colors, low=min_value, high=max_value)\n",
    "\n",
    "    color_bar = ColorBar(color_mapper=mapper, location=(0, 0), orientation='horizontal', \n",
    "                     title = variable_to_distribute,ticker=FixedTicker(ticks=index_range))\n",
    "\n",
    "    TOOLS=\"pan,wheel_zoom,box_zoom,reset,hover,save\"\n",
    "    p = figure(title=variable_to_distribute, toolbar_location=\"left\",tools=TOOLS,\n",
    "        plot_width=1100, plot_height=700,x_axis_location=None, y_axis_location=None)\n",
    "\n",
    "    p.patches('x', 'y', source=source, fill_alpha=0.7,fill_color='color',\n",
    "        line_color=\"#884444\", line_width=2)\n",
    "\n",
    "    hover = p.select_one(HoverTool)\n",
    "    hover.point_policy = \"follow_mouse\"\n",
    "    tool_tips = [(\"State \", \"@state_name\")]\n",
    "    for key in variable_dictionary.keys():\n",
    "        if key not in [\"x\",\"y\",\"color\",\"state_name\"]:\n",
    "            tool_tips.append((key,\"@\"+re.sub(\"[^\\w]\",\"\",key) + \"{1.11}\"))\n",
    "    hover.tooltips = tool_tips\n",
    "    p.add_layout(color_bar, 'below')\n",
    "\n",
    "    return p"
   ]
  },
  {
   "cell_type": "markdown",
   "metadata": {},
   "source": [
    "We write a function to normalize a given field by state wise or country wise average and standard deviation. This will be useful to query the data about things like what is the proportion of states that have above average readmission rates given that they have above average per-capita Medicare cost. "
   ]
  },
  {
   "cell_type": "code",
   "execution_count": null,
   "metadata": {
    "collapsed": true
   },
   "outputs": [],
   "source": [
    "def normalize_country_state(data_frame, country_state = \"country\",variables = [\"Phys,PrimaryCare,PatientCareNon-Fed2014PopNorm\"]):\n",
    "    \"\"\"Function that centers the data at 0 based on the country average or state average (subtracts the mean and divides by standard deviation)\n",
    "    \n",
    "    input: data frame consisting of all the columns\n",
    "    country_state: {\"country\",\"state\"} Normalize by wither country average or state average for each county\n",
    "    variables: list of variables to normalize\n",
    "    \n",
    "    output: the input data_frame with additional columns with the normalized data \n",
    "    output: A dictionary containing the country or state mean and standard deviations\n",
    "    \"\"\"\n",
    "    if country_state == \"country\":\n",
    "        vatiable_stats = {}\n",
    "        for var in variables:\n",
    "            vatiable_stats[var + \"_mean\"] = data_frame[var].mean()\n",
    "            vatiable_stats[var + \"_std\"] = data_frame[var].std()\n",
    "            data_frame[var + \"CountryNorm\"] = (data_frame[var] - vatiable_stats[var + \"_mean\"]) / vatiable_stats[var + \"_std\"]\n",
    "    elif country_state == \"state\":\n",
    "        vatiable_stats = {}\n",
    "        for var in variables:\n",
    "            data_frame.ix[:,var + \"StateNorm\"] = 0\n",
    "            for st in data_frame[\"StateNameAbbreviation\"].unique():\n",
    "                if st != \"DC\":\n",
    "                    vatiable_stats[var + \"StateNorm_mean\" + st] = data_frame[data_frame[\"StateNameAbbreviation\"] == st][var].mean()\n",
    "                    vatiable_stats[var + \"StateNorm_std\" + st] = data_frame[data_frame[\"StateNameAbbreviation\"] == st][var].std()\n",
    "                    data_frame.ix[data_frame[\"StateNameAbbreviation\"] == st,var + \"StateNorm\"] = (data_frame[data_frame[\"StateNameAbbreviation\"] == st][var] - \n",
    "                                                                                                   vatiable_stats[var + \"StateNorm_mean\" + st]) / vatiable_stats[var + \"StateNorm_std\" + st]\n",
    "                else:\n",
    "                    vatiable_stats[var + \"StateNorm_mean\" + st] = data_frame[data_frame[\"StateNameAbbreviation\"] == st][var].mean()\n",
    "                    vatiable_stats[var + \"StateNorm_std\" + st] = 0.0\n",
    "                    data_frame.ix[data_frame[\"StateNameAbbreviation\"] == st,var + \"StateNorm\"] = 0.0\n",
    "    return data_frame,vatiable_stats"
   ]
  },
  {
   "cell_type": "code",
   "execution_count": null,
   "metadata": {
    "collapsed": false
   },
   "outputs": [],
   "source": [
    "state_wise_medical_provider,stats = normalize_country_state(state_wise_medical_provider,\"country\",variables=[\"Phys,PrimaryCare,PatientCareNon-Fed2014PopNorm\"])"
   ]
  },
  {
   "cell_type": "markdown",
   "metadata": {},
   "source": [
    "Let us plot the the distribution of primary care physicians normalized by population and national average and standard deviation. We thus get values that are certain standard deviations above and below the mean. The user can choose which variable to plot the distribution on and which variables to display as we hover over each state. "
   ]
  },
  {
   "cell_type": "code",
   "execution_count": null,
   "metadata": {
    "collapsed": false
   },
   "outputs": [],
   "source": [
    "p = plot_us_map(state_wise_medical_provider,\n",
    "                \"Phys,PrimaryCare,PatientCareNon-Fed2014PopNormCountryNorm\",\n",
    "               [\"TotalActiveM.D.sNon-FederalNon-Fed2014\",\n",
    "                \"TotalActiveD.O.sNon-FederalNon-Fed2014\",\n",
    "                \"Phys,PrimaryCare,PatientCareNon-Fed2014PopNorm\",\n",
    "                \"Phys,PrimaryCare,PatientCareNon-Fed2014PopNormCountryNorm\"])\n",
    "\n",
    "print \"The Country mean of %s is %.2f and the standard deviation is %.2f\"%(\"Phys,PrimaryCare,PatientCareNon-Fed2014PopNorm\",\n",
    "                                                                     stats[\"Phys,PrimaryCare,PatientCareNon-Fed2014PopNorm\" + \"_mean\"],\n",
    "                                                                    stats[\"Phys,PrimaryCare,PatientCareNon-Fed2014PopNorm\" + \"_std\"])\n",
    "\n",
    "show(p)"
   ]
  },
  {
   "cell_type": "markdown",
   "metadata": {},
   "source": [
    "You can hover over each state to see more information such as total active MDs and DOs. The above plot shows the distribution of primary care physicians for every 100k population across the US normalized by the national average and standard deviation. It is interesting to see that the New-England states along with Washington D.C has the highest density of active primary care physicians in the entire country.\n",
    "### Medical Expenditures\n",
    "Let us look into the average per-capita Medicare cost and readmission rates for each state. The mean for each state is computed and sorted on per-capita Medicare costs. The following two tables show the top 5 and bottom 5 states with regard to their per-capita Medicare cost."
   ]
  },
  {
   "cell_type": "code",
   "execution_count": null,
   "metadata": {
    "collapsed": false
   },
   "outputs": [],
   "source": [
    "state_wise_expenditures_summary = ahrf_frame.groupby([\"StateNameAbbreviation\"],as_index=False)[\"StandardzdPerCapitaMedcrCostFeeforService2014\",\n",
    "                                                                                                \"ActualPerCapitaMedicareCostFeeforService2014\",\n",
    "                                                                                                \"TotStandardizedMedicareCostsFeeforService2014\",\n",
    "                                                                                                \"TotalActualMedicareCostsFeeforService2014\",\n",
    "                                                                                                \"MedcreBenefHospReadmissRateFeeforService2014\"].mean()\n",
    "\n",
    "state_wise_expenditures_summary.sort_values(by = \"StandardzdPerCapitaMedcrCostFeeforService2014\",ascending=0)[:5][[\"StateNameAbbreviation\",\n",
    "                                                                                                              \"StandardzdPerCapitaMedcrCostFeeforService2014\",\n",
    "                                                                                                              \"MedcreBenefHospReadmissRateFeeforService2014\"]]\n"
   ]
  },
  {
   "cell_type": "code",
   "execution_count": null,
   "metadata": {
    "collapsed": false
   },
   "outputs": [],
   "source": [
    "state_wise_expenditures_summary.sort_values(by = \"StandardzdPerCapitaMedcrCostFeeforService2014\",ascending=0)[-5:][[\"StateNameAbbreviation\",\n",
    "                                                                                                              \"StandardzdPerCapitaMedcrCostFeeforService2014\",\n",
    "                                                                                                              \"MedcreBenefHospReadmissRateFeeforService2014\"]]"
   ]
  },
  {
   "cell_type": "markdown",
   "metadata": {},
   "source": [
    "There is no surprise seeing Florida in the top 5 per-capita Medicare cost, which is known as a retirement destination. We cal also see that states which have a high per-capita Medicare cost also have a relatively larger readmissions rate. New Jersey has the highest readmissions rate from the states shown above, which suggests that much of the Medicare cost may be going towards readmissions. Let us determine the states in the US which have above average per-capita Medicare cost and above average readmissions rate. We define variable $X$ to represent per-capita Medicare cost and variable $Y$ to represent readmissions rate. We calculate the probability $P(Y > 0.0,X > 0.0)$ and $P(Y > 0.0 | X > 0.0)$, the latter probability estimate will give good understanding of the proportion of states with high Medicare cost as a result of high readmissions rate. We begin by normalizing the per-capita Medicare cost and the readmissions rate by the country average and standard deviation. "
   ]
  },
  {
   "cell_type": "code",
   "execution_count": null,
   "metadata": {
    "collapsed": false
   },
   "outputs": [],
   "source": [
    "state_wise_expenditures_summary,stats = normalize_country_state(state_wise_expenditures_summary,\n",
    "                                                          \"country\",\n",
    "                                                          [\"StandardzdPerCapitaMedcrCostFeeforService2014\",\n",
    "                                                           \"MedcreBenefHospReadmissRateFeeforService2014\"])"
   ]
  },
  {
   "cell_type": "code",
   "execution_count": null,
   "metadata": {
    "collapsed": false
   },
   "outputs": [],
   "source": [
    "p_x_and_y = state_wise_expenditures_summary[(state_wise_expenditures_summary[\"StandardzdPerCapitaMedcrCostFeeforService2014CountryNorm\"] > 0.0) \n",
    "                                & (state_wise_expenditures_summary[\"MedcreBenefHospReadmissRateFeeforService2014CountryNorm\"] > 0.0)][\"StateNameAbbreviation\"].count() / 51.0\n",
    "\n",
    "p_y_given_x = state_wise_expenditures_summary[(state_wise_expenditures_summary[\"StandardzdPerCapitaMedcrCostFeeforService2014CountryNorm\"] > 0.0) \n",
    "                                & (state_wise_expenditures_summary[\"MedcreBenefHospReadmissRateFeeforService2014CountryNorm\"] > 0.0)][\"StateNameAbbreviation\"].count() / float(state_wise_expenditures_summary[state_wise_expenditures_summary[\"StandardzdPerCapitaMedcrCostFeeforService2014CountryNorm\"] > 0.0][\"StateNameAbbreviation\"].count())\n",
    "print \"P(Y > 0.0,X > 0.0) = %.2f\"%p_x_and_y\n",
    "print \"P(Y > 0.0 | X > 0.0) = %.2f\"%p_y_given_x\n",
    "state_wise_expenditures_summary[(state_wise_expenditures_summary[\"StandardzdPerCapitaMedcrCostFeeforService2014CountryNorm\"] > 0.0) \n",
    "                                & (state_wise_expenditures_summary[\"MedcreBenefHospReadmissRateFeeforService2014CountryNorm\"] > 0.0)][[\"StateNameAbbreviation\"\n",
    "                                                                                                                            ,\"StandardzdPerCapitaMedcrCostFeeforService2014CountryNorm\"]]                               \n",
    "\n"
   ]
  },
  {
   "cell_type": "markdown",
   "metadata": {},
   "source": [
    "78% of the States which have higher than average per-capita Medicare cost also have above than average readmissions rate. There seems to be a lot of potential on focusing on reducing readmission rates to drive down per-capita Medicare cost. We next plot the distribution of standardized per capita Medicare cost fee for service across the US normalized by country mean and standard deviation. Here again the user can decide on which variable to plot the distribution across the US. "
   ]
  },
  {
   "cell_type": "code",
   "execution_count": null,
   "metadata": {
    "collapsed": false
   },
   "outputs": [],
   "source": [
    "p = plot_us_map(state_wise_expenditures_summary,\n",
    "                \"StandardzdPerCapitaMedcrCostFeeforService2014CountryNorm\",\n",
    "                [\"ActualPerCapitaMedicareCostFeeforService2014\",\n",
    "                 \"TotStandardizedMedicareCostsFeeforService2014\",\n",
    "                 \"TotalActualMedicareCostsFeeforService2014\",\n",
    "                 \"MedcreBenefHospReadmissRateFeeforService2014\",\n",
    "                 \"StandardzdPerCapitaMedcrCostFeeforService2014\",\n",
    "                 \"MedcreBenefHospReadmissRateFeeforService2014CountryNorm\"])\n",
    "print \"The Country mean of %s is %.2f and the standard deviation is %.2f\"%(\"StandardzdPerCapitaMedcrCostFeeforService2014CountryNorm\",\n",
    "                                                                     stats[\"StandardzdPerCapitaMedcrCostFeeforService2014\" + \"_mean\"],\n",
    "                                                                    stats[\"StandardzdPerCapitaMedcrCostFeeforService2014\" + \"_std\"])\n",
    "print \"The Country mean of %s is %.2f and the standard deviation is %.2f\"%(\"MedcreBenefHospReadmissRateFeeforService2014\",\n",
    "                                                                     stats[\"MedcreBenefHospReadmissRateFeeforService2014\" + \"_mean\"],\n",
    "                                                                    stats[\"MedcreBenefHospReadmissRateFeeforService2014\" + \"_std\"])\n",
    "show(p)"
   ]
  },
  {
   "cell_type": "markdown",
   "metadata": {},
   "source": [
    "States in the West generally seem to have lower standardized per capita Medicare costs than states in the east. Although Texas seems to have a high per-capita Medicare cost, the readmissions rate of 16.42 is still on par with the national average of 16.53. However New Jersey has a readmissions rate of 19.02% which is 1.21 standard deviations above normal indicating potential for reduction in per-capita Medicare cost by reducing readmission rates.\n",
    "\n",
    "Washington DC, Florida, New Jersey and Louiasina are states where there is a lot of potential to reduce per-capita Medicare cost by reducing the readmissions rate. \n",
    "### Utilization \n",
    "Utilization data is not available for for the year 2014 and hence we look at data provided from 2013. The number of short term general hospitals and utilization rates are aggregated for each state and normalized for 100k people. The data is sorted on the number of hospitals for 100k people and the following is a plot of utilization divided into 4 categories i.e distribution of hospitals which are utilized 0-39%,30-59%,60-79%,80+% which is from mild utilization to heavy utilization of hospitals for states with the highest and lowest hospital densities."
   ]
  },
  {
   "cell_type": "code",
   "execution_count": null,
   "metadata": {
    "collapsed": false
   },
   "outputs": [],
   "source": [
    "state_wise_utilization_summary = ahrf_frame.groupby([\"StateNameAbbreviation\"],as_index=False)[\"StateNameAbbreviation\",\n",
    "                                                                                              \"PopulationEstimate2013\",\n",
    "                                                                                              \"HospitalBeds2013\",\n",
    "                                                                                              \"ShortTermGeneralHospBeds2013\",\n",
    "                                                                                              \"InpatientDaysinSTGenHosp2013\",\n",
    "                                                                                              \"#ShortTermGeneralHosps2013\",\n",
    "                                                                                              \"DistHospBy00-39%UtilRateShortTermGeneralHospitals2013\",\n",
    "                                                                                              \"DistHospBy40-59%UtilRateShortTermGeneralHospitals2013\",\n",
    "                                                                                              \"DistHospBy60-79%UtilRateShortTermGeneralHospitals2013\",\n",
    "                                                                                              \"DistHospBy80+%UtilRateShortTermGeneralHospitals2013\"].sum()\n",
    "\n",
    "state_wise_utilization_summary = normalize_by_population(state_wise_utilization_summary,[\"ShortTermGeneralHospBeds2013\",\n",
    "                                                                                         \"#ShortTermGeneralHosps2013\"\n",
    "                                                                                         ])\n",
    "\n",
    "plot = state_wise_utilization_summary.sort_values(by = \"#ShortTermGeneralHosps2013PopNorm\",\n",
    "                                           ascending=0)[:5][[\"StateNameAbbreviation\",\n",
    "                                                             \"#ShortTermGeneralHosps2013\",\n",
    "                                                             \"#ShortTermGeneralHosps2013PopNorm\",\n",
    "                                                             \"DistHospBy00-39%UtilRateShortTermGeneralHospitals2013\",\n",
    "                                                             \"DistHospBy40-59%UtilRateShortTermGeneralHospitals2013\",\n",
    "                                                             \"DistHospBy60-79%UtilRateShortTermGeneralHospitals2013\",\n",
    "                                                             \"DistHospBy80+%UtilRateShortTermGeneralHospitals2013\"]].plot.bar(x = \"StateNameAbbreviation\",\n",
    "                                                                                                                              y=[\"DistHospBy00-39%UtilRateShortTermGeneralHospitals2013\",\n",
    "                                                                                                                                 \"DistHospBy40-59%UtilRateShortTermGeneralHospitals2013\",\n",
    "                                                                                                                                 \"DistHospBy60-79%UtilRateShortTermGeneralHospitals2013\",\n",
    "                                                                                                                                 \"DistHospBy80+%UtilRateShortTermGeneralHospitals2013\"],\n",
    "                                                                                                                             stacked = False,ylim=(0.0,60.0))\n",
    "\n",
    "plot.set_ylabel(\"Number of hospitals\")"
   ]
  },
  {
   "cell_type": "code",
   "execution_count": null,
   "metadata": {
    "collapsed": false
   },
   "outputs": [],
   "source": [
    "plot = state_wise_utilization_summary.sort_values(by = \"#ShortTermGeneralHosps2013PopNorm\",\n",
    "                                           ascending=0)[-5:][[\"StateNameAbbreviation\",\n",
    "                                                             \"#ShortTermGeneralHosps2013\",\n",
    "                                                             \"#ShortTermGeneralHosps2013PopNorm\",\n",
    "                                                             \"DistHospBy00-39%UtilRateShortTermGeneralHospitals2013\",\n",
    "                                                             \"DistHospBy40-59%UtilRateShortTermGeneralHospitals2013\",\n",
    "                                                             \"DistHospBy60-79%UtilRateShortTermGeneralHospitals2013\",\n",
    "                                                             \"DistHospBy80+%UtilRateShortTermGeneralHospitals2013\"]].plot.bar(x = \"StateNameAbbreviation\",\n",
    "                                                                                                                              y=[\"DistHospBy00-39%UtilRateShortTermGeneralHospitals2013\",\n",
    "                                                                                                                                 \"DistHospBy40-59%UtilRateShortTermGeneralHospitals2013\",\n",
    "                                                                                                                                 \"DistHospBy60-79%UtilRateShortTermGeneralHospitals2013\",\n",
    "                                                                                                                                 \"DistHospBy80+%UtilRateShortTermGeneralHospitals2013\"],\n",
    "                                                                                                                             stacked = False,ylim = (0.0,180.0))\n",
    "\n",
    "plot.set_ylabel(\"Number of hospitals\")"
   ]
  },
  {
   "cell_type": "markdown",
   "metadata": {},
   "source": [
    "From the first plot above we can see that states with a high density of hospitals are generally under-utilized with tall blue bars indicating large proportions of hospitals utilized in the 0-39% ranges. From the bottom plot states with a high density of hospitals are generally more utilized with taller red bars indicating large proportions of the hospitals utilized in the 60-79% range.\n",
    "### Demographics data\n",
    "We look into demographic data such as unemployment rate, percentage of people without health insurance and per-capita income averaged for each state. The values are sorted on per-capita personal income and the following table shows the top 5 and bottom 5 states based on the average per-capita personal income."
   ]
  },
  {
   "cell_type": "code",
   "execution_count": null,
   "metadata": {
    "collapsed": false
   },
   "outputs": [],
   "source": [
    "state_wise_summary_demographics = ahrf_frame.groupby([\"StateNameAbbreviation\"],as_index=False)[\"%<65withoutHealthInsurance2014\",\n",
    "                                                                                                       \"PerCapitaPersonalIncome2014\",\n",
    "                                                                                                       \"UnemploymentRate,16+2014\",\n",
    "                                                                                                       \"MedianHouseholdIncome2014\",\n",
    "                                                                                                       \"PercentPersonsinPoverty2014\"].mean()\n",
    "\n",
    "state_wise_summary_demographics.sort_values(by = \"PerCapitaPersonalIncome2014\",ascending = 0)[:5][[\"StateNameAbbreviation\",\n",
    "                                                                                                   \"PerCapitaPersonalIncome2014\",\n",
    "                                                                                                   \"UnemploymentRate,16+2014\",\n",
    "                                                                                                   \"MedianHouseholdIncome2014\",\n",
    "                                                                                                   \"PercentPersonsinPoverty2014\",\n",
    "                                                                                                   \"UnemploymentRate,16+2014\"]]\n"
   ]
  },
  {
   "cell_type": "code",
   "execution_count": null,
   "metadata": {
    "collapsed": false
   },
   "outputs": [],
   "source": [
    "state_wise_summary_demographics.sort_values(by = \"PerCapitaPersonalIncome2014\",ascending = 0)[-5:][[\"StateNameAbbreviation\",\n",
    "                                                                                                    \"PerCapitaPersonalIncome2014\",\n",
    "                                                                                                    \"UnemploymentRate,16+2014\",\n",
    "                                                                                                    \"MedianHouseholdIncome2014\",\n",
    "                                                                                                    \"PercentPersonsinPoverty2014\",\n",
    "                                                                                                    \"UnemploymentRate,16+2014\"]]"
   ]
  },
  {
   "cell_type": "markdown",
   "metadata": {},
   "source": [
    "Next let us look into the distribution of percentage of people without health insurance across the US."
   ]
  },
  {
   "cell_type": "code",
   "execution_count": null,
   "metadata": {
    "collapsed": false
   },
   "outputs": [],
   "source": [
    "p = plot_us_map(state_wise_summary_demographics,\"%<65withoutHealthInsurance2014\",[\"PerCapitaPersonalIncome2014\",\n",
    "                                                                                  \"UnemploymentRate,16+2014\",\n",
    "                                                                                  \"MedianHouseholdIncome2014\",\n",
    "                                                                                  \"PercentPersonsinPoverty2014\"])\n",
    "show(p)"
   ]
  },
  {
   "cell_type": "markdown",
   "metadata": {},
   "source": [
    "Hovering over each state gives the per capita income, unemployment rate, percentage of people in poverty and median household income. It is interesting to note that there is no trend between unemployment rate and percentage of people without health insurance as one would expect. Massachusetts has 3.99% of people without insurance with an unemployment rate of 6.15 percent compared to Texas with 22.77% of people without health insurance and a 4.94 unemployment rate.\n",
    "## County Level Analysis\n",
    "### Medical Providers"
   ]
  },
  {
   "cell_type": "code",
   "execution_count": null,
   "metadata": {
    "collapsed": false
   },
   "outputs": [],
   "source": [
    "ahrf_frame = normalize_by_population(ahrf_frame,[\"Phys,PrimaryCare,PatientCareNon-Fed2014\"])"
   ]
  },
  {
   "cell_type": "code",
   "execution_count": null,
   "metadata": {
    "collapsed": false
   },
   "outputs": [],
   "source": [
    "state_means = ahrf_frame.groupby([\"StateNameAbbreviation\"],as_index=False)[\"PopulationEstimate2014\",\n",
    "                                                                 \"%<65withoutHealthInsurance2014\",\n",
    "                                                                 \"UnemploymentRate,16+2014\",\n",
    "                                                                 \"PerCapitaPersonalIncome2014\",\n",
    "                                                                 \"Phys,PrimaryCare,PatientCareNon-Fed2014PopNorm\"].mean()"
   ]
  },
  {
   "cell_type": "code",
   "execution_count": null,
   "metadata": {
    "collapsed": false
   },
   "outputs": [],
   "source": [
    "state_means.sort_values(by = \"Phys,PrimaryCare,PatientCareNon-Fed2014PopNorm\",ascending=0)[:5][[\"StateNameAbbreviation\",\n",
    "                                                                                                \"Phys,PrimaryCare,PatientCareNon-Fed2014PopNorm\"]]"
   ]
  },
  {
   "cell_type": "code",
   "execution_count": null,
   "metadata": {
    "collapsed": false
   },
   "outputs": [],
   "source": [
    "state_means.sort_values(by = \"Phys,PrimaryCare,PatientCareNon-Fed2014PopNorm\",ascending=0)[-5:][[\"StateNameAbbreviation\",\n",
    "                                                                                                \"Phys,PrimaryCare,PatientCareNon-Fed2014PopNorm\"]]"
   ]
  },
  {
   "cell_type": "markdown",
   "metadata": {},
   "source": [
    "Let us look into the distribution of primary care physicians density in states with the largest and lowest average primary care physicians density."
   ]
  },
  {
   "cell_type": "code",
   "execution_count": null,
   "metadata": {
    "collapsed": false
   },
   "outputs": [],
   "source": [
    "plots = ahrf_frame[ahrf_frame[\"StateNameAbbreviation\"].isin([\"RI\",\"ME\",\"NH\",\"MA\",\"VT\"])].hist(column = \"Phys,PrimaryCare,PatientCareNon-Fed2014PopNorm\",\n",
    "                                                                                               by = \"StateNameAbbreviation\",figsize = (8,10),\n",
    "                                                                                      normed=0)\n",
    "\n",
    "map(lambda x: map(lambda y: (y.set_ylabel(\"Number of Counties\"),y.set_xlabel(\"PCPs / 100k\")),x), plots)"
   ]
  },
  {
   "cell_type": "markdown",
   "metadata": {},
   "source": [
    "The above plots show the distribution of primary care physician density for each states with the highest average primary care physician density. In RI there seems to be exactly 1 county with 180 primary care physicians per 100K population."
   ]
  },
  {
   "cell_type": "code",
   "execution_count": null,
   "metadata": {
    "collapsed": false
   },
   "outputs": [],
   "source": [
    "plots = ahrf_frame[ahrf_frame[\"StateNameAbbreviation\"].isin([\"LA\",\"OK\",\"NV\",\"MS\",\"TX\"])].hist(column = \"Phys,PrimaryCare,PatientCareNon-Fed2014PopNorm\",\n",
    "                                                                                               by = \"StateNameAbbreviation\",figsize = (8,10),\n",
    "                                                                                      normed=0)\n",
    "map(lambda x: map(lambda y: (y.set_ylabel(\"Number of Counties\"),y.set_xlabel(\"PCPs / 100k\")),x), plots)"
   ]
  },
  {
   "cell_type": "markdown",
   "metadata": {},
   "source": [
    "The above plots show the distribution of primary care physician density for states with the lowest average primary care density. Let us define the following helper function to plot the distribution of a variable over the counties of the given state."
   ]
  },
  {
   "cell_type": "code",
   "execution_count": null,
   "metadata": {
    "collapsed": false
   },
   "outputs": [],
   "source": [
    "def plot_state_counties(state_wise,state,variable_to_distribute,variables_to_display):\n",
    "    \"\"\"Plots the distribution of a given variable across the given sttate\n",
    "    \n",
    "    input: state_wise is a data frame containing the county level data\n",
    "    input: state is the 2 character state abbreviations\n",
    "    input: variable_to_distribute is the variable that you want to see across the state\n",
    "    variables_to_display: Variables to display on hovering over each county\n",
    "    \n",
    "    output: Bokeh plotting object\n",
    "    \"\"\"\n",
    "    from bokeh.sampledata.us_counties import data as counties\n",
    "    counties = {\n",
    "    code: county for code, county in counties.items() if county[\"state\"] == state.lower()\n",
    "    }\n",
    "    county_xs = [county[\"lons\"] for county in counties.values()]\n",
    "    county_ys = [county[\"lats\"] for county in counties.values()]\n",
    "    \n",
    "    if variable_to_distribute in variables_to_display:\n",
    "        variables_to_display.remove(variable_to_distribute)\n",
    "\n",
    "    colors = palettes.viridis(4)\n",
    "    min_value = state_wise[variable_to_distribute].min()\n",
    "    max_value = state_wise[variable_to_distribute].max()\n",
    "    gran = (max_value - min_value) / float(len(colors))\n",
    "    #print variable_to_distribute,state,min_value,max_value\n",
    "    index_range = [min_value + x*gran for x in range(len(colors))]\n",
    "    county_colors = []\n",
    "    variable_dictionary = {}\n",
    "    variable_dictionary[\"county_names\"] = [county['name'] for county in counties.values()]\n",
    "    variable_dictionary[\"x\"] = county_xs\n",
    "    variable_dictionary[\"y\"] = county_ys\n",
    "    variable_dictionary[re.sub(\"[^\\w]\",\"\",variable_to_distribute)] = []\n",
    "    for vd in variables_to_display:\n",
    "        variable_dictionary[re.sub(\"[^\\w]\",\"\",vd)] = []\n",
    "    for county_id in counties:\n",
    "        StateCountyID = str(county_id[0]).zfill(2) + str(county_id[1]).zfill(3)\n",
    "        if StateCountyID in list(state_wise[\"Header-FIPSStandCtyCode\"].values):\n",
    "            temp_var = state_wise[state_wise[\"Header-FIPSStandCtyCode\"] == StateCountyID][variable_to_distribute].values[0]\n",
    "            if temp_var > 0.0:\n",
    "                variable_dictionary[re.sub(\"[^\\w]\",\"\",variable_to_distribute)].append(temp_var)\n",
    "                for vd in variables_to_display:\n",
    "                    variable_dictionary[re.sub(\"[^\\w]\",\"\",vd)].append(round(float(state_wise[state_wise[\"Header-FIPSStandCtyCode\"] == StateCountyID][vd].values),2))\n",
    "                color_idx = list(temp_var - np.array(index_range)).index(min(x for x in list(temp_var - np.array(index_range)) if x >= 0))\n",
    "                county_colors.append(colors[color_idx])\n",
    "            else:\n",
    "                variable_dictionary[re.sub(\"[^\\w]\",\"\",variable_to_distribute)].append(0.0)\n",
    "                county_colors.append(\"#A9A9A9\")\n",
    "                for vd in variables_to_display:\n",
    "                    variable_dictionary[re.sub(\"[^\\w]\",\"\",vd)].append(0.0)\n",
    "        else:\n",
    "            variable_dictionary[re.sub(\"[^\\w]\",\"\",variable_to_distribute)].append(0.0)\n",
    "            county_colors.append(\"#A9A9A9\")\n",
    "            for vd in variables_to_display:\n",
    "                variable_dictionary[re.sub(\"[^\\w]\",\"\",vd)].append(0.0)\n",
    "        #print temp_var,counties[county_id][\"name\"]\n",
    "    variable_dictionary[\"color\"] = county_colors\n",
    "    source = ColumnDataSource(data = variable_dictionary)\n",
    "    TOOLS = \"pan,wheel_zoom,box_zoom,reset,hover,save\"\n",
    "\n",
    "    mapper = LinearColorMapper(palette=colors, low=min_value, high=max_value)\n",
    "\n",
    "    color_bar = ColorBar(color_mapper=mapper, location=(0, 0), orientation='horizontal', \n",
    "                     title = variable_to_distribute,ticker=FixedTicker(ticks=index_range))\n",
    "\n",
    "    p = figure(title=variable_to_distribute + \" for \" + state, toolbar_location=\"left\",tools=TOOLS,\n",
    "        plot_width=1100, plot_height=700,x_axis_location=None, y_axis_location=None)\n",
    "\n",
    "    p.patches('x', 'y', source=source, fill_alpha=0.7,fill_color='color',\n",
    "        line_color=\"#884444\", line_width=2)\n",
    "\n",
    "    hover = p.select_one(HoverTool)\n",
    "    hover.point_policy = \"follow_mouse\"\n",
    "    tool_tips = [(\"County \", \"@county_names\")]\n",
    "    for key in variable_dictionary.keys():\n",
    "        if key not in [\"x\",\"y\",\"color\",\"county_names\"]:\n",
    "            tool_tips.append((key,\"@\"+re.sub(\"[^\\w]\",\"\",key) + \"{1.11}\"))\n",
    "    hover.tooltips = tool_tips\n",
    "    \n",
    "    p.add_layout(color_bar, 'below')\n",
    "    \n",
    "    return p"
   ]
  },
  {
   "cell_type": "markdown",
   "metadata": {},
   "source": [
    "Let us pick Maine from the top 5 states and Oklahoma from the bottom 5 states and look at the county wise distribution of primary care physicians. "
   ]
  },
  {
   "cell_type": "code",
   "execution_count": null,
   "metadata": {
    "collapsed": false
   },
   "outputs": [],
   "source": [
    "p = plot_state_counties(ahrf_frame[ahrf_frame[\"StateNameAbbreviation\"] == \"ME\"],\n",
    "                        \"ME\",\"Phys,PrimaryCare,PatientCareNon-Fed2014PopNorm\",[\"UnemploymentRate,16+2014\",\n",
    "                                                                               \"PerCapitaPersonalIncome2014\",\n",
    "                                                                               \"%<65withoutHealthInsurance2014\",\n",
    "                                                                               \"Phys,PrimaryCare,PatientCareNon-Fed2014PopNorm\"])\n",
    "show(p)"
   ]
  },
  {
   "cell_type": "code",
   "execution_count": null,
   "metadata": {
    "collapsed": false
   },
   "outputs": [],
   "source": [
    "p = plot_state_counties(ahrf_frame[ahrf_frame[\"StateNameAbbreviation\"] == \"OK\"],\n",
    "                        \"OK\",\"Phys,PrimaryCare,PatientCareNon-Fed2014PopNorm\",[\"UnemploymentRate,16+2014\",\n",
    "                                                                               \"PerCapitaPersonalIncome2014\",\n",
    "                                                                               \"%<65withoutHealthInsurance2014\"])\n",
    "show(p)"
   ]
  },
  {
   "cell_type": "markdown",
   "metadata": {},
   "source": [
    "### Medical Expenditures \n",
    "Earlier we saw that New Jersey accounted for a very high readmission rate (~19%), let us look at the distribution of the readmission rates across the state."
   ]
  },
  {
   "cell_type": "code",
   "execution_count": null,
   "metadata": {
    "collapsed": false
   },
   "outputs": [],
   "source": [
    "p = plot_state_counties(ahrf_frame[ahrf_frame[\"StateNameAbbreviation\"] == \"NJ\"],\n",
    "                        \"NJ\",\"MedcreBenefHospReadmissRateFeeforService2014\",[\"ActualPerCapitaMedicareCostFeeforService2014\",\n",
    "                                                                             \"TotStandardizedMedicareCostsFeeforService2014\",\n",
    "                                                                             \"TotalActualMedicareCostsFeeforService2014\",\n",
    "                                                                             \"StandardzdPerCapitaMedcrCostFeeforService2014\"])\n",
    "show(p) "
   ]
  },
  {
   "cell_type": "code",
   "execution_count": null,
   "metadata": {
    "collapsed": false
   },
   "outputs": [],
   "source": [
    "p = plot_state_counties(ahrf_frame[ahrf_frame[\"StateNameAbbreviation\"] == \"CO\"],\n",
    "                        \"CO\",\"MedcreBenefHospReadmissRateFeeforService2014\",[\"ActualPerCapitaMedicareCostFeeforService2014\",\n",
    "                                                                                                \"TotStandardizedMedicareCostsFeeforService2014\",\n",
    "                                                                                                \"TotalActualMedicareCostsFeeforService2014\",\n",
    "                                                                                                \"StandardzdPerCapitaMedcrCostFeeforService2014\"])\n",
    "show(p)"
   ]
  },
  {
   "cell_type": "markdown",
   "metadata": {},
   "source": [
    "From the above county map of New Jersey, we see that there are multiple counties which account for the high readmissions rate, Hunterdon in the Northwest has a low readmissions rate and low Medicare costs. On the bottom plot of Colorado, a single county Jackson has a readmissions rate of 36%.\n",
    "### Utilization\n",
    "To analyze utilization at the county level, let us derive a quantity called mean utilization rate or expected utilization rate. We will use this metric to plot the distribution across the states of New Jersey and Colorado."
   ]
  },
  {
   "cell_type": "code",
   "execution_count": null,
   "metadata": {
    "collapsed": false
   },
   "outputs": [],
   "source": [
    "utilization_columns = [\"DistHospBy00-39%UtilRateShortTermGeneralHospitals2013\",\n",
    "                       \"DistHospBy40-59%UtilRateShortTermGeneralHospitals2013\",\n",
    "                       \"DistHospBy60-79%UtilRateShortTermGeneralHospitals2013\",\n",
    "                       \"DistHospBy80+%UtilRateShortTermGeneralHospitals2013\",\n",
    "                       \"#ShortTermGeneralHosps2013\"]\n",
    "ahrf_frame[\"mean_utilization\"] = map(lambda x: (0.2*x[0] + 0.5*x[1] + 0.7*x[2] + 0.9*x[3])/x[4] ,ahrf_frame[utilization_columns].values)"
   ]
  },
  {
   "cell_type": "code",
   "execution_count": null,
   "metadata": {
    "collapsed": false
   },
   "outputs": [],
   "source": [
    "p = plot_state_counties(ahrf_frame[ahrf_frame[\"StateNameAbbreviation\"] == \"NJ\"],\"NJ\",\n",
    "                        \"mean_utilization\",utilization_columns)\n",
    "show(p)"
   ]
  },
  {
   "cell_type": "markdown",
   "metadata": {},
   "source": [
    "As we have seen from the readmission rate the counties Cumberland, Essex and Hudson accounted for high readmission rates in the order of 20%. From the utilization plot we see that surprisingly hospitals in Hudson are not over utilized but Essex and Cumberland are over utilized with rates of 64% and 70% respectively."
   ]
  },
  {
   "cell_type": "code",
   "execution_count": null,
   "metadata": {
    "collapsed": false
   },
   "outputs": [],
   "source": [
    "p = plot_state_counties(ahrf_frame[ahrf_frame[\"StateNameAbbreviation\"] == \"CO\"],\"CO\",\n",
    "                        \"mean_utilization\",utilization_columns)\n",
    "show(p)"
   ]
  },
  {
   "cell_type": "markdown",
   "metadata": {},
   "source": [
    "The county of Jackson which accounted for 36% readmission rate does not have any hospitals, the county adjacent to it Routt has a relatively high mean utilization of 70%. As a general trend all counties next to counties without any hospitals (colored in grey) seem to have high utilizations. \n",
    "### Demographics\n",
    "To analyze the demographic data at the county level, let us first sort the states on average percentage of people without health insurance and determine the top 5 and the bottom 5 states and plot the distribution of percentage of people without health insurance. "
   ]
  },
  {
   "cell_type": "code",
   "execution_count": null,
   "metadata": {
    "collapsed": false
   },
   "outputs": [],
   "source": [
    "state_means.sort_values(by = \"%<65withoutHealthInsurance2014\",ascending = 0)[:5][[\"StateNameAbbreviation\",\n",
    "                                                                               \"%<65withoutHealthInsurance2014\"]]"
   ]
  },
  {
   "cell_type": "code",
   "execution_count": null,
   "metadata": {
    "collapsed": false
   },
   "outputs": [],
   "source": [
    "state_means.sort_values(by = \"%<65withoutHealthInsurance2014\",ascending = 0)[-5:][[\"StateNameAbbreviation\",\n",
    "                                                                               \"%<65withoutHealthInsurance2014\"]]"
   ]
  },
  {
   "cell_type": "code",
   "execution_count": null,
   "metadata": {
    "collapsed": false
   },
   "outputs": [],
   "source": [
    "plots = ahrf_frame[ahrf_frame[\"StateNameAbbreviation\"].isin([\"AK\",\"TX\",\"FL\",\"OK\",\"MT\"])].hist(column = \"%<65withoutHealthInsurance2014\",\n",
    "                                                                                               by = \"StateNameAbbreviation\",figsize = (8,10),\n",
    "                                                                                      normed=0)\n",
    "map(lambda x: map(lambda y: (y.set_ylabel(\"Number of Counties\"),y.set_xlabel(\"% people < 65 with no health insurance\")),x), plots)"
   ]
  },
  {
   "cell_type": "code",
   "execution_count": null,
   "metadata": {
    "collapsed": false
   },
   "outputs": [],
   "source": [
    "plots = ahrf_frame[ahrf_frame[\"StateNameAbbreviation\"].isin([\"CT\",\"RI\",\"HI\",\"VT\",\"MA\"])].hist(column = \"%<65withoutHealthInsurance2014\",\n",
    "                                                                                               by = \"StateNameAbbreviation\",figsize = (8,10),\n",
    "                                                                                              normed = 0)\n",
    "\n",
    "map(lambda x: map(lambda y: (y.set_ylabel(\"Number of Counties\"),y.set_xlabel(\"% people < 65 with no health insurance\")),x), plots)"
   ]
  },
  {
   "cell_type": "code",
   "execution_count": null,
   "metadata": {
    "collapsed": false
   },
   "outputs": [],
   "source": [
    "p = plot_state_counties(ahrf_frame[ahrf_frame[\"StateNameAbbreviation\"] == \"TX\"],\"TX\",\n",
    "                        \"%<65withoutHealthInsurance2014\",[\"UnemploymentRate,16+2014\",\n",
    "                                                          \"PerCapitaPersonalIncome2014\",\n",
    "                                                          \"Phys,PrimaryCare,PatientCareNon-Fed2014PopNorm\"])\n",
    "show(p)\n",
    "print \"State Means\"\n",
    "state_means[state_means[\"StateNameAbbreviation\"] == \"TX\"]"
   ]
  },
  {
   "cell_type": "code",
   "execution_count": null,
   "metadata": {
    "collapsed": false
   },
   "outputs": [],
   "source": [
    "p = plot_state_counties(ahrf_frame[ahrf_frame[\"StateNameAbbreviation\"] == \"MA\"],\"MA\",\n",
    "                        \"%<65withoutHealthInsurance2014\",[\"UnemploymentRate,16+2014\",\n",
    "                                                          \"PerCapitaPersonalIncome2014\",\n",
    "                                                          \"Phys,PrimaryCare,PatientCareNon-Fed2014PopNorm\",\n",
    "                                                          \"%<65withoutHealthInsurance2014\"])\n",
    "show(p)\n",
    "state_means[state_means[\"StateNameAbbreviation\"] == \"MA\"]"
   ]
  },
  {
   "cell_type": "markdown",
   "metadata": {},
   "source": [
    "**Note**: Seems like Bokeh has inverted the cape in Massachusetts and Dukes and Nantucket are islands and not on the mainland. This is a bug in Bokeh. \n",
    "# Correlation Analysis\n",
    "We perform [Pearson's Correlation](https://en.wikipedia.org/wiki/Correlation_and_dependence) on select set of variables that we analyzed above. Pandas has a quick and easy way to to extract the correlation coefficients using the corr() function, and also ignores missing values."
   ]
  },
  {
   "cell_type": "code",
   "execution_count": null,
   "metadata": {
    "collapsed": false
   },
   "outputs": [],
   "source": [
    "ahrf_correlations = ahrf_frame[[\"PopulationEstimate2013\",\n",
    "                               \"Phys,PrimaryCare,PatientCareNon-Fed2013\",\n",
    "                               \"TotalActiveM.D.sNon-FederalNon-Fed2013\",\n",
    "                               \"TotalActiveD.O.sNon-FederalNon-Fed2013\",\n",
    "                               \"StandardzdPerCapitaMedcrCostFeeforService2013\",\n",
    "                               \"%<65withoutHealthInsurance2013\",\n",
    "                               \"UnemploymentRate,16+2013\",\n",
    "                               \"PerCapitaPersonalIncome2013\",\n",
    "                                \"PercentPersonsinPoverty2013\",\n",
    "                                \"MedcreBenefHospReadmissRateFeeforService2013\",\n",
    "                                \"ShortTermGeneralHospBeds2013\",\n",
    "                                \"#ShortTermGeneralHosps2013\",\n",
    "                                \"mean_utilization\",\n",
    "                                \"ShortTermGenHospAdmissions2013\"\n",
    "                               ]].copy()"
   ]
  },
  {
   "cell_type": "code",
   "execution_count": null,
   "metadata": {
    "collapsed": false
   },
   "outputs": [],
   "source": [
    "normalize_columns = [\"Phys,PrimaryCare,PatientCareNon-Fed2013\",\n",
    "                     \"TotalActiveM.D.sNon-FederalNon-Fed2013\",\n",
    "                     \"TotalActiveD.O.sNon-FederalNon-Fed2013\",\n",
    "                     \"ShortTermGenHospAdmissions2013\",\n",
    "                     \"#ShortTermGeneralHosps2013\",\n",
    "                     \"ShortTermGeneralHospBeds2013\"]\n",
    "ahrf_correlations = normalize_by_population(ahrf_correlations,normalize_columns)"
   ]
  },
  {
   "cell_type": "code",
   "execution_count": null,
   "metadata": {
    "collapsed": false
   },
   "outputs": [],
   "source": [
    "ahrf_correlations = ahrf_correlations.drop(normalize_columns,axis=1)"
   ]
  },
  {
   "cell_type": "code",
   "execution_count": null,
   "metadata": {
    "collapsed": false
   },
   "outputs": [],
   "source": [
    "ahrf_correlations\n",
    "cm = ahrf_correlations.corr()\n",
    "sns.heatmap(cm,square=True)\n",
    "plt.xticks(rotation=90)\n",
    "plt.yticks(rotation=0)"
   ]
  },
  {
   "cell_type": "markdown",
   "metadata": {},
   "source": [
    "From the above heat map, we can see some obvious and not so obvious correlations. The obvious ones are percentage of people in poverty is negatively correlated with per capita personal income and unemployment rate. The interesting ones are readmissions rate is correlated with per capita Medicare cost fee for service cost which suggests that if we decrease the readmissions rate we can bring the per-capita Medicare cost down. \n",
    "\n",
    "Per capita personal income is negatively correlated with percentage of people without health insurance suggesting that as incomes go up people generally buy health insurance. \n",
    "\n",
    "Mean utilization is correlated with hospital admissions and total active M.Ds normalized by 100k people. \n",
    "\n",
    "\n",
    "# Conclusion\n",
    "We have successfully developed and verified an API for mining and extracting data from the AHRF ascii file, and we looked into a small subset of variables in that file. Visualization tools are developed in this I-Python notebook which is capable of plotting a given variable at the State level or the county level along with displaying variables by hovering over the state or county. We found some interesting correlations such as readmissions rate and per capita Medicare costs. \n",
    "\n",
    "Further analysis can be done using the visualization tools and ideas presented in this notebook. The API can also be further optimized to read the ascii file and generate the data frame faster.\n",
    "\n",
    "**A Note on Missing values:**There are several missing values for some counties and variables. While calculating the statistics across these variables Pandas ignores the rows with missing values and thus we do not deal with them explicitly here."
   ]
  }
 ],
 "metadata": {
  "kernelspec": {
   "display_name": "Python 2",
   "language": "python",
   "name": "python2"
  },
  "language_info": {
   "codemirror_mode": {
    "name": "ipython",
    "version": 2
   },
   "file_extension": ".py",
   "mimetype": "text/x-python",
   "name": "python",
   "nbconvert_exporter": "python",
   "pygments_lexer": "ipython2",
   "version": "2.7.13"
  }
 },
 "nbformat": 4,
 "nbformat_minor": 0
}
